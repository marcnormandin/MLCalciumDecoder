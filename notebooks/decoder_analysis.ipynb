{
 "cells": [
  {
   "cell_type": "code",
   "execution_count": null,
   "id": "e0404acb",
   "metadata": {},
   "outputs": [],
   "source": [
    "import numpy as np\n",
    "import matplotlib.pyplot as plt\n",
    "%matplotlib inline\n",
    "import pickle\n",
    "import os\n",
    "import h5py"
   ]
  },
  {
   "cell_type": "code",
   "execution_count": null,
   "id": "62694646",
   "metadata": {},
   "outputs": [],
   "source": [
    "analysis_folder = 'R:\\\\calcium_decoding\\\\analysis\\\\2022_02_25_13_51_36_465142'\n",
    "#analysis_folder = 'R:\\\\calcium_decoding\\\\analysis\\\\2022_02_16_16_45_04_338058'\n",
    "analysis_filename = analysis_folder + '\\\\analysis.p'\n",
    "\n",
    "IS_MUZZIO_DATA, dataset_label, settings, ds, model_cell_indices, X_train, y_train, X_predict, y_true, model, y_predict, prediction_maps, X_decode, y_decode_true, y_decode_predict, decode_maps = pickle.load( open( analysis_filename, \"rb\" ) )"
   ]
  },
  {
   "cell_type": "code",
   "execution_count": null,
   "id": "27b0f50c",
   "metadata": {},
   "outputs": [],
   "source": [
    "# Plot an example of the activity data used for training.\n",
    "plt.plot(X_train[:,1])\n",
    "plt.title('Example trace')"
   ]
  },
  {
   "cell_type": "code",
   "execution_count": null,
   "id": "d390ba3b",
   "metadata": {},
   "outputs": [],
   "source": [
    "plt.figure(figsize=(18, 9))\n",
    "plt.plot(np.arange(len(y_decode_true)), y_decode_true, 'b.')\n",
    "plt.plot(np.arange(len(y_decode_predict)), y_decode_predict, 'ro')\n",
    "plt.savefig(os.path.join(analysis_folder, 'comparison.png'))\n",
    "plt.show()"
   ]
  },
  {
   "cell_type": "code",
   "execution_count": null,
   "id": "560ea553",
   "metadata": {},
   "outputs": [],
   "source": [
    "# Zoomed-in section\n",
    "inds = np.arange(400)\n",
    "x = np.arange(len(y_decode_true))\n",
    "x_x = x[inds]\n",
    "y_d = y_decode_true[inds]\n",
    "y_p = y_decode_predict[inds]\n",
    "\n",
    "plt.figure(figsize=(18, 9))\n",
    "plt.plot(x_x, y_d, 'b.')\n",
    "plt.plot(x_x, y_p, 'ro')\n",
    "#plt.savefig(os.path.join(analysis_folder, 'comparison.png'))\n",
    "plt.show()"
   ]
  },
  {
   "cell_type": "markdown",
   "id": "b517d392-d13a-4b3a-b143-7f4dc1d83e01",
   "metadata": {},
   "source": [
    "# This is to make a movie of the predictions (predict data that the model never was trained on)"
   ]
  },
  {
   "cell_type": "markdown",
   "id": "644bff9b",
   "metadata": {},
   "source": [
    "fig = plt.figure(figsize=(4,5))\n",
    "fig.subplots_adjust(left=0, bottom=0, right=1, top=1, wspace=None, hspace=None)\n",
    "\n",
    "frame = prediction_maps[0]\n",
    "im = plt.imshow(frame, extent=[0, frame.shape[1], 0, frame.shape[0]], interpolation='gaussian', origin='upper')\n",
    "plt.axis('equal')\n",
    "#plt.plot(x_binned_true, y_binned_true, 'ro', markerfacecolor='r', markersize=10)"
   ]
  },
  {
   "cell_type": "markdown",
   "id": "15dd3224-92ab-44ab-8c3d-5b2b61e66bcc",
   "metadata": {},
   "source": [
    "# This is to make a movie of the entire dataset (training and prediction portion)"
   ]
  },
  {
   "cell_type": "code",
   "execution_count": null,
   "id": "242e56f1",
   "metadata": {},
   "outputs": [],
   "source": [
    "#def save_animation():\n",
    "# Make a movie of the predictions\n",
    "import matplotlib.animation\n",
    "import matplotlib.pyplot as plt\n",
    "import math\n",
    "\n",
    "# matplotlib.rcParams['animation.embed_limit'] = 2**128\n",
    "plt.rcParams['animation.embed_limit'] = 2 ** 128\n",
    "\n",
    "import numpy as np\n",
    "\n",
    "plt.rcParams[\"animation.html\"] = \"jshtml\"\n",
    "plt.rcParams['figure.dpi'] = 150\n",
    "plt.ioff()\n",
    "\n",
    "def get_frame_data(frame_num):\n",
    "    sample_index = frame_num * alpha\n",
    "    \n",
    "    frame = decode_maps[sample_index]\n",
    "\n",
    "    [y_binned_true, x_binned_true] = np.unravel_index(y_decode_true[sample_index], ds['arena_size_binned'], order='C')\n",
    "\n",
    "    return frame, x_binned_true, y_binned_true\n",
    "\n",
    "\n",
    "fps = 20\n",
    "num_samples = len(decode_maps)\n",
    "alpha = 1\n",
    "num_frames = math.floor(num_samples / alpha)\n",
    "\n",
    "fig = plt.figure()\n",
    "fig.subplots_adjust(left=0, bottom=0, right=1, top=1, wspace=None, hspace=None)\n",
    "\n",
    "frame, x_binned_true, y_binned_true = get_frame_data(1)\n",
    "im = plt.imshow(frame, extent=[0, frame.shape[1], 0, frame.shape[0]], interpolation='gaussian', origin='upper')\n",
    "plt.axis('equal')\n",
    "trueBin, = plt.plot(x_binned_true, y_binned_true, 'ro', markerfacecolor='r', markersize=10)\n",
    "\n",
    "\n",
    "def init():\n",
    "    im.set_data(frame)\n",
    "    trueBin.set_xdata(x_binned_true)\n",
    "    trueBin.set_ydata(y_binned_true)\n",
    "    ax = plt.gca()\n",
    "    ax.axes.xaxis.set_visible(False)\n",
    "    ax.axes.yaxis.set_visible(False)\n",
    "\n",
    "\n",
    "# x= np.linspace(0,10,100)\n",
    "def animate(frame_num):\n",
    "    frame, x_binned_true, y_binned_true = get_frame_data(frame_num)\n",
    "    im.set_data(frame)\n",
    "    trueBin.set_xdata(x_binned_true)\n",
    "    trueBin.set_ydata(y_binned_true)\n",
    "    return im\n",
    "\n",
    "my_animation = matplotlib.animation.FuncAnimation(fig, animate, init_func=init, frames=num_frames)\n",
    "FFwriter = matplotlib.animation.FFMpegWriter(fps=fps)\n",
    "\n",
    "animation_filename = os.path.join(analysis_folder, 'decode_maps.mp4')\n",
    "my_animation.save(animation_filename, writer=FFwriter)\n",
    "print('Animation saved to ', animation_filename)\n",
    "\n"
   ]
  },
  {
   "cell_type": "code",
   "execution_count": null,
   "id": "1bd6f543-da0a-4053-adc4-63ba5801de15",
   "metadata": {},
   "outputs": [],
   "source": []
  }
 ],
 "metadata": {
  "kernelspec": {
   "display_name": "Python [conda env:DEEPLABCUT] *",
   "language": "python",
   "name": "conda-env-DEEPLABCUT-py"
  },
  "language_info": {
   "codemirror_mode": {
    "name": "ipython",
    "version": 3
   },
   "file_extension": ".py",
   "mimetype": "text/x-python",
   "name": "python",
   "nbconvert_exporter": "python",
   "pygments_lexer": "ipython3",
   "version": "3.8.10"
  }
 },
 "nbformat": 4,
 "nbformat_minor": 5
}
